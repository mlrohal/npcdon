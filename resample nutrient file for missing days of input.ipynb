{
 "cells": [
  {
   "cell_type": "code",
   "execution_count": 1,
   "metadata": {},
   "outputs": [],
   "source": [
    "import pandas as pd\n",
    "import matplotlib.pyplot as plt\n",
    "import seaborn as sns\n",
    "# Use seaborn style defaults and set the default figure size\n",
    "sns.set(rc={'figure.figsize':(11, 4)})"
   ]
  },
  {
   "cell_type": "code",
   "execution_count": 2,
   "metadata": {},
   "outputs": [],
   "source": [
    "nutfile = pd.read_csv('Data\\Guadalupe_inputall.csv', parse_dates=[0], index_col=0)"
   ]
  },
  {
   "cell_type": "code",
   "execution_count": 3,
   "metadata": {},
   "outputs": [
    {
     "data": {
      "text/html": [
       "<div>\n",
       "<style scoped>\n",
       "    .dataframe tbody tr th:only-of-type {\n",
       "        vertical-align: middle;\n",
       "    }\n",
       "\n",
       "    .dataframe tbody tr th {\n",
       "        vertical-align: top;\n",
       "    }\n",
       "\n",
       "    .dataframe thead th {\n",
       "        text-align: right;\n",
       "    }\n",
       "</style>\n",
       "<table border=\"1\" class=\"dataframe\">\n",
       "  <thead>\n",
       "    <tr style=\"text-align: right;\">\n",
       "      <th></th>\n",
       "      <th>ddin</th>\n",
       "      <th>ddon</th>\n",
       "    </tr>\n",
       "    <tr>\n",
       "      <th>Date</th>\n",
       "      <th></th>\n",
       "      <th></th>\n",
       "    </tr>\n",
       "  </thead>\n",
       "  <tbody>\n",
       "    <tr>\n",
       "      <th>1989-10-01</th>\n",
       "      <td>0.372439</td>\n",
       "      <td>0.119865</td>\n",
       "    </tr>\n",
       "    <tr>\n",
       "      <th>1989-10-02</th>\n",
       "      <td>0.143093</td>\n",
       "      <td>0.171541</td>\n",
       "    </tr>\n",
       "    <tr>\n",
       "      <th>1989-10-03</th>\n",
       "      <td>0.117466</td>\n",
       "      <td>0.177928</td>\n",
       "    </tr>\n",
       "    <tr>\n",
       "      <th>1989-10-04</th>\n",
       "      <td>0.077917</td>\n",
       "      <td>0.254226</td>\n",
       "    </tr>\n",
       "    <tr>\n",
       "      <th>1989-10-05</th>\n",
       "      <td>0.303583</td>\n",
       "      <td>0.144100</td>\n",
       "    </tr>\n",
       "  </tbody>\n",
       "</table>\n",
       "</div>"
      ],
      "text/plain": [
       "                ddin      ddon\n",
       "Date                          \n",
       "1989-10-01  0.372439  0.119865\n",
       "1989-10-02  0.143093  0.171541\n",
       "1989-10-03  0.117466  0.177928\n",
       "1989-10-04  0.077917  0.254226\n",
       "1989-10-05  0.303583  0.144100"
      ]
     },
     "execution_count": 3,
     "metadata": {},
     "output_type": "execute_result"
    }
   ],
   "source": [
    "#resample the data to stitch together the missing days as NaN values\n",
    "nutfile = nutfile.resample('D').mean()  \n",
    "nutfile.head() #see what it looks like now.."
   ]
  },
  {
   "cell_type": "code",
   "execution_count": 4,
   "metadata": {},
   "outputs": [
    {
     "data": {
      "text/plain": [
       "True"
      ]
     },
     "execution_count": 4,
     "metadata": {},
     "output_type": "execute_result"
    }
   ],
   "source": [
    "nutfile.isnull().values.any()  #True or False do we have missing values now?"
   ]
  },
  {
   "cell_type": "code",
   "execution_count": 5,
   "metadata": {},
   "outputs": [
    {
     "data": {
      "text/plain": [
       "ddin    42\n",
       "ddon    42\n",
       "dtype: int64"
      ]
     },
     "execution_count": 5,
     "metadata": {},
     "output_type": "execute_result"
    }
   ],
   "source": [
    "nutfile.isnull().sum()  # how many?"
   ]
  },
  {
   "cell_type": "code",
   "execution_count": 7,
   "metadata": {},
   "outputs": [],
   "source": [
    "nutfile = nutfile.fillna(0)"
   ]
  },
  {
   "cell_type": "code",
   "execution_count": 8,
   "metadata": {},
   "outputs": [
    {
     "data": {
      "text/plain": [
       "False"
      ]
     },
     "execution_count": 8,
     "metadata": {},
     "output_type": "execute_result"
    }
   ],
   "source": [
    "nutfile.isnull().values.any() "
   ]
  },
  {
   "cell_type": "code",
   "execution_count": 22,
   "metadata": {},
   "outputs": [],
   "source": [
    "if not nutfile.isnull().values.any():\n",
    "    nutfile.to_csv('Data\\Guadalupe_inputall_nonans.csv', header=True, index_label='Date')"
   ]
  },
  {
   "cell_type": "code",
   "execution_count": 41,
   "metadata": {},
   "outputs": [],
   "source": [
    "#use this method to append the temperature data to input file\n",
    "\n",
    "nutfile = pd.read_csv('Data\\Guadalupe_inputall_nonans.csv', parse_dates=[0], index_col=0)\n",
    "tempfile = pd.read_csv('Data\\GECTemp.csv', parse_dates=[0], index_col=0)\n",
    "result = pd.concat([nutfile, tempfile], axis=1, sort=False)\n",
    "result = pd.concat([result['10/1/1989':], result[:'4/25/2019']])  #trim the dates to match"
   ]
  },
  {
   "cell_type": "code",
   "execution_count": 42,
   "metadata": {},
   "outputs": [],
   "source": [
    "result.insert(0, 'Date', result.index)\n",
    "result['Date'] = pd.to_datetime(result['Date'], format='%Y%m%d').dt.strftime('%m/%d/%Y')"
   ]
  },
  {
   "cell_type": "code",
   "execution_count": 43,
   "metadata": {},
   "outputs": [],
   "source": [
    "result.to_csv('Data\\Guadalupe_inputall_final.csv', header=True,index=False)"
   ]
  },
  {
   "cell_type": "code",
   "execution_count": null,
   "metadata": {},
   "outputs": [],
   "source": []
  }
 ],
 "metadata": {
  "kernelspec": {
   "display_name": "Python 3",
   "language": "python",
   "name": "python3"
  },
  "language_info": {
   "codemirror_mode": {
    "name": "ipython",
    "version": 3
   },
   "file_extension": ".py",
   "mimetype": "text/x-python",
   "name": "python",
   "nbconvert_exporter": "python",
   "pygments_lexer": "ipython3",
   "version": "3.6.8"
  }
 },
 "nbformat": 4,
 "nbformat_minor": 2
}
