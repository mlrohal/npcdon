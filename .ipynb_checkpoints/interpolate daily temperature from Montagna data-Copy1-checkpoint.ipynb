{
 "cells": [
  {
   "cell_type": "code",
   "execution_count": 1,
   "metadata": {},
   "outputs": [],
   "source": [
    "import pandas as pd\n",
    "import matplotlib.pyplot as plt\n",
    "import seaborn as sns\n",
    "# Use seaborn style defaults and set the default figure size\n",
    "sns.set(rc={'figure.figsize':(11, 4)})"
   ]
  },
  {
   "cell_type": "code",
   "execution_count": 11,
   "metadata": {},
   "outputs": [],
   "source": [
    "hydrofile = 'Data\\GE-hydro.csv'\n",
    "outputfile = r'Data\\NBTemp.csv'\n",
    "column = 2  #column for the DATE\n",
    "STA = 'C'  #to interpolate by station  \n",
    "BAY = ''   #to interpolate by bay\n",
    "\n",
    "NBDaily = pd.read_csv(hydrofile, parse_dates=[column], index_col=column)\n",
    "#read paul's data, "
   ]
  },
  {
   "cell_type": "code",
   "execution_count": 12,
   "metadata": {},
   "outputs": [
    {
     "data": {
      "text/plain": [
       "Est         object\n",
       "Bay         object\n",
       "STA         object\n",
       "DEPTH      float64\n",
       "TEMP       float64\n",
       "SAL        float64\n",
       "DO         float64\n",
       "mondate     object\n",
       "dtype: object"
      ]
     },
     "execution_count": 12,
     "metadata": {},
     "output_type": "execute_result"
    }
   ],
   "source": [
    "NBDaily.dtypes\n",
    "#ensure we grab the data correctly"
   ]
  },
  {
   "cell_type": "code",
   "execution_count": 13,
   "metadata": {},
   "outputs": [
    {
     "data": {
      "text/plain": [
       "DatetimeIndex(['1986-11-18', '1986-11-18', '1987-01-28', '1987-01-28',\n",
       "               '1987-01-29', '1987-01-29', '1987-03-03', '1987-03-04',\n",
       "               '1987-03-04', '1987-03-04',\n",
       "               ...\n",
       "               '2017-02-28', '2017-02-28', '2017-02-28', '2017-02-28',\n",
       "               '2018-01-15', '2018-01-15', '2019-04-23', '2019-04-23',\n",
       "               '2019-04-23', '2019-04-23'],\n",
       "              dtype='datetime64[ns]', name='DATE', length=2949, freq=None)"
      ]
     },
     "execution_count": 13,
     "metadata": {},
     "output_type": "execute_result"
    }
   ],
   "source": [
    "NBDaily.index\n",
    "#hopefully we set the index as a datetime from the column we passed .csv_read above"
   ]
  },
  {
   "cell_type": "code",
   "execution_count": 5,
   "metadata": {},
   "outputs": [
    {
     "data": {
      "text/html": [
       "<div>\n",
       "<style scoped>\n",
       "    .dataframe tbody tr th:only-of-type {\n",
       "        vertical-align: middle;\n",
       "    }\n",
       "\n",
       "    .dataframe tbody tr th {\n",
       "        vertical-align: top;\n",
       "    }\n",
       "\n",
       "    .dataframe thead th {\n",
       "        text-align: right;\n",
       "    }\n",
       "</style>\n",
       "<table border=\"1\" class=\"dataframe\">\n",
       "  <thead>\n",
       "    <tr style=\"text-align: right;\">\n",
       "      <th></th>\n",
       "      <th>Est</th>\n",
       "      <th>Bay</th>\n",
       "      <th>STA</th>\n",
       "      <th>DEPTH</th>\n",
       "      <th>TEMP</th>\n",
       "      <th>SAL</th>\n",
       "      <th>DO</th>\n",
       "      <th>mondate</th>\n",
       "    </tr>\n",
       "    <tr>\n",
       "      <th>DATE</th>\n",
       "      <th></th>\n",
       "      <th></th>\n",
       "      <th></th>\n",
       "      <th></th>\n",
       "      <th></th>\n",
       "      <th></th>\n",
       "      <th></th>\n",
       "      <th></th>\n",
       "    </tr>\n",
       "  </thead>\n",
       "  <tbody>\n",
       "    <tr>\n",
       "      <th>1986-11-18</th>\n",
       "      <td>GE</td>\n",
       "      <td>US</td>\n",
       "      <td>A</td>\n",
       "      <td>1.50</td>\n",
       "      <td>15.500</td>\n",
       "      <td>13.20000</td>\n",
       "      <td>NaN</td>\n",
       "      <td>11/15/1986</td>\n",
       "    </tr>\n",
       "    <tr>\n",
       "      <th>1986-11-18</th>\n",
       "      <td>GE</td>\n",
       "      <td>US</td>\n",
       "      <td>B</td>\n",
       "      <td>1.75</td>\n",
       "      <td>14.200</td>\n",
       "      <td>17.60000</td>\n",
       "      <td>NaN</td>\n",
       "      <td>11/15/1986</td>\n",
       "    </tr>\n",
       "    <tr>\n",
       "      <th>1987-01-28</th>\n",
       "      <td>GE</td>\n",
       "      <td>US</td>\n",
       "      <td>A</td>\n",
       "      <td>1.25</td>\n",
       "      <td>14.399</td>\n",
       "      <td>0.29999</td>\n",
       "      <td>NaN</td>\n",
       "      <td>1/15/1987</td>\n",
       "    </tr>\n",
       "    <tr>\n",
       "      <th>1987-01-28</th>\n",
       "      <td>GE</td>\n",
       "      <td>US</td>\n",
       "      <td>B</td>\n",
       "      <td>1.80</td>\n",
       "      <td>14.800</td>\n",
       "      <td>0.40000</td>\n",
       "      <td>NaN</td>\n",
       "      <td>1/15/1987</td>\n",
       "    </tr>\n",
       "    <tr>\n",
       "      <th>1987-01-29</th>\n",
       "      <td>GE</td>\n",
       "      <td>LS</td>\n",
       "      <td>C</td>\n",
       "      <td>1.00</td>\n",
       "      <td>14.500</td>\n",
       "      <td>3.00000</td>\n",
       "      <td>NaN</td>\n",
       "      <td>1/15/1987</td>\n",
       "    </tr>\n",
       "  </tbody>\n",
       "</table>\n",
       "</div>"
      ],
      "text/plain": [
       "           Est Bay STA  DEPTH    TEMP       SAL  DO     mondate\n",
       "DATE                                                           \n",
       "1986-11-18  GE  US   A   1.50  15.500  13.20000 NaN  11/15/1986\n",
       "1986-11-18  GE  US   B   1.75  14.200  17.60000 NaN  11/15/1986\n",
       "1987-01-28  GE  US   A   1.25  14.399   0.29999 NaN   1/15/1987\n",
       "1987-01-28  GE  US   B   1.80  14.800   0.40000 NaN   1/15/1987\n",
       "1987-01-29  GE  LS   C   1.00  14.500   3.00000 NaN   1/15/1987"
      ]
     },
     "execution_count": 5,
     "metadata": {},
     "output_type": "execute_result"
    }
   ],
   "source": [
    "NBDaily.head()  #view the top 5 lines of data"
   ]
  },
  {
   "cell_type": "code",
   "execution_count": 6,
   "metadata": {},
   "outputs": [
    {
     "data": {
      "text/plain": [
       "<matplotlib.axes._subplots.AxesSubplot at 0x211f40c8f60>"
      ]
     },
     "execution_count": 6,
     "metadata": {},
     "output_type": "execute_result"
    },
    {
     "data": {
      "image/png": "[encoded data removed]",
      "text/plain": [
       "<Figure size 432x288 with 1 Axes>"
      ]
     },
     "metadata": {
      "needs_background": "light"
     },
     "output_type": "display_data"
    }
   ],
   "source": [
    "NBDaily['TEMP'].plot(linewidth=0.5) #lets see that beatiful temperature data..."
   ]
  },
  {
   "cell_type": "code",
   "execution_count": 7,
   "metadata": {},
   "outputs": [],
   "source": [
    "if STA:\n",
    "    NB_split = NBDaily[NBDaily['STA'] == STA]  #lets grab a single station\n",
    "elif BAY:\n",
    "    NB_split = NBDaily[NBDaily['Bay'] == BAY]  #lets grab a single station\n",
    "    "
   ]
  },
  {
   "cell_type": "code",
   "execution_count": 8,
   "metadata": {},
   "outputs": [
    {
     "data": {
      "text/html": [
       "<div>\n",
       "<style scoped>\n",
       "    .dataframe tbody tr th:only-of-type {\n",
       "        vertical-align: middle;\n",
       "    }\n",
       "\n",
       "    .dataframe tbody tr th {\n",
       "        vertical-align: top;\n",
       "    }\n",
       "\n",
       "    .dataframe thead th {\n",
       "        text-align: right;\n",
       "    }\n",
       "</style>\n",
       "<table border=\"1\" class=\"dataframe\">\n",
       "  <thead>\n",
       "    <tr style=\"text-align: right;\">\n",
       "      <th></th>\n",
       "      <th>Est</th>\n",
       "      <th>Bay</th>\n",
       "      <th>STA</th>\n",
       "      <th>DEPTH</th>\n",
       "      <th>TEMP</th>\n",
       "      <th>SAL</th>\n",
       "      <th>DO</th>\n",
       "      <th>mondate</th>\n",
       "    </tr>\n",
       "    <tr>\n",
       "      <th>DATE</th>\n",
       "      <th></th>\n",
       "      <th></th>\n",
       "      <th></th>\n",
       "      <th></th>\n",
       "      <th></th>\n",
       "      <th></th>\n",
       "      <th></th>\n",
       "      <th></th>\n",
       "    </tr>\n",
       "  </thead>\n",
       "  <tbody>\n",
       "    <tr>\n",
       "      <th>1987-01-29</th>\n",
       "      <td>GE</td>\n",
       "      <td>LS</td>\n",
       "      <td>C</td>\n",
       "      <td>1.0</td>\n",
       "      <td>14.5</td>\n",
       "      <td>3.0</td>\n",
       "      <td>NaN</td>\n",
       "      <td>1/15/1987</td>\n",
       "    </tr>\n",
       "    <tr>\n",
       "      <th>1987-03-04</th>\n",
       "      <td>GE</td>\n",
       "      <td>LS</td>\n",
       "      <td>C</td>\n",
       "      <td>2.0</td>\n",
       "      <td>16.0</td>\n",
       "      <td>6.9</td>\n",
       "      <td>NaN</td>\n",
       "      <td>3/15/1987</td>\n",
       "    </tr>\n",
       "    <tr>\n",
       "      <th>1987-04-10</th>\n",
       "      <td>GE</td>\n",
       "      <td>LS</td>\n",
       "      <td>C</td>\n",
       "      <td>2.0</td>\n",
       "      <td>14.5</td>\n",
       "      <td>9.2</td>\n",
       "      <td>NaN</td>\n",
       "      <td>4/15/1987</td>\n",
       "    </tr>\n",
       "    <tr>\n",
       "      <th>1987-06-03</th>\n",
       "      <td>GE</td>\n",
       "      <td>LS</td>\n",
       "      <td>C</td>\n",
       "      <td>2.0</td>\n",
       "      <td>26.5</td>\n",
       "      <td>3.6</td>\n",
       "      <td>NaN</td>\n",
       "      <td>6/15/1987</td>\n",
       "    </tr>\n",
       "    <tr>\n",
       "      <th>1987-07-15</th>\n",
       "      <td>GE</td>\n",
       "      <td>LS</td>\n",
       "      <td>C</td>\n",
       "      <td>2.0</td>\n",
       "      <td>30.5</td>\n",
       "      <td>1.1</td>\n",
       "      <td>NaN</td>\n",
       "      <td>7/15/1987</td>\n",
       "    </tr>\n",
       "  </tbody>\n",
       "</table>\n",
       "</div>"
      ],
      "text/plain": [
       "           Est Bay STA  DEPTH  TEMP  SAL  DO    mondate\n",
       "DATE                                                   \n",
       "1987-01-29  GE  LS   C    1.0  14.5  3.0 NaN  1/15/1987\n",
       "1987-03-04  GE  LS   C    2.0  16.0  6.9 NaN  3/15/1987\n",
       "1987-04-10  GE  LS   C    2.0  14.5  9.2 NaN  4/15/1987\n",
       "1987-06-03  GE  LS   C    2.0  26.5  3.6 NaN  6/15/1987\n",
       "1987-07-15  GE  LS   C    2.0  30.5  1.1 NaN  7/15/1987"
      ]
     },
     "execution_count": 8,
     "metadata": {},
     "output_type": "execute_result"
    }
   ],
   "source": [
    "NB_split.head()"
   ]
  },
  {
   "cell_type": "code",
   "execution_count": 9,
   "metadata": {},
   "outputs": [
    {
     "data": {
      "text/html": [
       "<div>\n",
       "<style scoped>\n",
       "    .dataframe tbody tr th:only-of-type {\n",
       "        vertical-align: middle;\n",
       "    }\n",
       "\n",
       "    .dataframe tbody tr th {\n",
       "        vertical-align: top;\n",
       "    }\n",
       "\n",
       "    .dataframe thead th {\n",
       "        text-align: right;\n",
       "    }\n",
       "</style>\n",
       "<table border=\"1\" class=\"dataframe\">\n",
       "  <thead>\n",
       "    <tr style=\"text-align: right;\">\n",
       "      <th></th>\n",
       "      <th>DEPTH</th>\n",
       "      <th>TEMP</th>\n",
       "      <th>SAL</th>\n",
       "      <th>DO</th>\n",
       "    </tr>\n",
       "    <tr>\n",
       "      <th>DATE</th>\n",
       "      <th></th>\n",
       "      <th></th>\n",
       "      <th></th>\n",
       "      <th></th>\n",
       "    </tr>\n",
       "  </thead>\n",
       "  <tbody>\n",
       "    <tr>\n",
       "      <th>1987-01-29</th>\n",
       "      <td>1.0</td>\n",
       "      <td>14.5</td>\n",
       "      <td>3.0</td>\n",
       "      <td>NaN</td>\n",
       "    </tr>\n",
       "    <tr>\n",
       "      <th>1987-01-30</th>\n",
       "      <td>NaN</td>\n",
       "      <td>NaN</td>\n",
       "      <td>NaN</td>\n",
       "      <td>NaN</td>\n",
       "    </tr>\n",
       "    <tr>\n",
       "      <th>1987-01-31</th>\n",
       "      <td>NaN</td>\n",
       "      <td>NaN</td>\n",
       "      <td>NaN</td>\n",
       "      <td>NaN</td>\n",
       "    </tr>\n",
       "    <tr>\n",
       "      <th>1987-02-01</th>\n",
       "      <td>NaN</td>\n",
       "      <td>NaN</td>\n",
       "      <td>NaN</td>\n",
       "      <td>NaN</td>\n",
       "    </tr>\n",
       "    <tr>\n",
       "      <th>1987-02-02</th>\n",
       "      <td>NaN</td>\n",
       "      <td>NaN</td>\n",
       "      <td>NaN</td>\n",
       "      <td>NaN</td>\n",
       "    </tr>\n",
       "  </tbody>\n",
       "</table>\n",
       "</div>"
      ],
      "text/plain": [
       "            DEPTH  TEMP  SAL  DO\n",
       "DATE                            \n",
       "1987-01-29    1.0  14.5  3.0 NaN\n",
       "1987-01-30    NaN   NaN  NaN NaN\n",
       "1987-01-31    NaN   NaN  NaN NaN\n",
       "1987-02-01    NaN   NaN  NaN NaN\n",
       "1987-02-02    NaN   NaN  NaN NaN"
      ]
     },
     "execution_count": 9,
     "metadata": {},
     "output_type": "execute_result"
    }
   ],
   "source": [
    "#resample the data to stitch together the missing days as NaN values\n",
    "NB_split = NB_split.resample('D').mean()  # need to take the means as there are observations on the same day in the set.\n",
    "NB_split.head() #see what it looks like now.."
   ]
  },
  {
   "cell_type": "code",
   "execution_count": 10,
   "metadata": {},
   "outputs": [
    {
     "data": {
      "text/plain": [
       "<matplotlib.axes._subplots.AxesSubplot at 0x211f442bd30>"
      ]
     },
     "execution_count": 10,
     "metadata": {},
     "output_type": "execute_result"
    },
    {
     "data": {
      "image/png": "[encoded data removed]",
      "text/plain": [
       "<Figure size 432x288 with 1 Axes>"
      ]
     },
     "metadata": {
      "needs_background": "light"
     },
     "output_type": "display_data"
    }
   ],
   "source": [
    "#Now we will interpolate those missing values.  \n",
    "#If the graph yeilds really funky results, like negatives, then try different methods.\n",
    "# eg. spline, polynomial, piecewise_polynomial, krogh\n",
    "# see https://pandas.pydata.org/pandas-docs/stable/reference/api/pandas.Series.interpolate.html\n",
    "\n",
    "method = 'piecewise_polynomial'\n",
    "temp_series = NB_split['TEMP'].interpolate(method=method)\n",
    "temp_series.plot(linewidth=0.5)"
   ]
  },
  {
   "cell_type": "code",
   "execution_count": 12,
   "metadata": {},
   "outputs": [],
   "source": [
    "temp_series.to_csv(outputfile, header=True)"
   ]
  },
  {
   "cell_type": "code",
   "execution_count": null,
   "metadata": {},
   "outputs": [],
   "source": []
  }
 ],
 "metadata": {
  "kernelspec": {
   "display_name": "Python 3",
   "language": "python",
   "name": "python3"
  },
  "language_info": {
   "codemirror_mode": {
    "name": "ipython",
    "version": 3
   },
   "file_extension": ".py",
   "mimetype": "text/x-python",
   "name": "python",
   "nbconvert_exporter": "python",
   "pygments_lexer": "ipython3",
   "version": "3.7.1"
  }
 },
 "nbformat": 4,
 "nbformat_minor": 2
}
