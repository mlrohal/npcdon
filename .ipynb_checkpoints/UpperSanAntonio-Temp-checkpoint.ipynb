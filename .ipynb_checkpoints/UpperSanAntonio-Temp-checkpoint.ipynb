{
 "cells": [
  {
   "cell_type": "code",
   "execution_count": 19,
   "metadata": {},
   "outputs": [],
   "source": [
    "from emlib import emlib\n",
    "import logging\n",
    "import math\n",
    "emlib.emlog.setLevel(logging.INFO)"
   ]
  },
  {
   "cell_type": "code",
   "execution_count": 20,
   "metadata": {},
   "outputs": [],
   "source": [
    "def NPZNB_int(t,initial,dtinput,constants):\n",
    "\n",
    "    P = initial[0]          # phytoplankton\n",
    "    B = initial[1]             # benthos\n",
    "    Z = initial[2]             # zooplankton\n",
    "    DIN = initial[3]           # dissolved inorganic\n",
    "    DON = initial[4]           # dissolved organic\n",
    "    ddin = dtinput.Val(\"ddin\") #Concentration by day from WRTDS model 2 columns date and ddin Units are mg/L N\n",
    "    dtemp = dtinput.Val(\"TEMP\")  #daily temperature of water \n",
    "    ddon = dtinput.Val(\"ddon\") #Concentration by day from WRTDS model 2 columns date and ddon mg/l N\n",
    "    dtemp = dtinput.Val(\"dtemp\")  #daily temperature of water \n",
    "    \n",
    "    #i = constants.Val(\"i\")      #irradiance\n",
    "    Pg = constants.Val(\"Pg\")    # max P growth\n",
    "    Bg = constants.Val(\"Bg\")    # max B growth\n",
    "    e = constants.Val(\"e\")      # Z ingestion\n",
    "    Zm = constants.Val(\"Zm\")    # Z mortality\n",
    "    Pm = constants.Val(\"Pm\")    # P mortality\n",
    "    Bm = constants.Val(\"Bm\")    # B mortality\n",
    "    Pe = constants.Val(\"Pe\")    # P excretion\n",
    "    Be = constants.Val(\"Be\")    # B excretion\n",
    "    Pr = constants.Val(\"Pr\")    # P recycle\n",
    "    h = constants.Val(\"h\")      # Z grazing\n",
    "    s = constants.Val(\"s\")      # sedimentation\n",
    "    f = constants.Val(\"f\")      # flushing rate\n",
    "    #in_scale = constants.Val(\"in_scale\")      # input scaling rate\n",
    "    \n",
    "    # 0.81e0.0631T optimal phytoplankton growth rate to temperature \n",
    "    #https://aslopubs.onlinelibrary.wiley.com/doi/abs/10.4319/lo.2008.53.2.0487\n",
    "    \n",
    "    \n",
    "    P_dot = ((Pg * P * DIN) * (0.81 * math.exp(0.0631 * dtemp))) + (Pr * DON * P* (0.81 * math.exp(0.0631 * dtemp))) \\\n",
    "           - (h * P * Z) - (Pm * P * P) - (Pe * P)\n",
    "    B_dot = (Bg * B)/ (1 + Bg * B) * (DON + DIN) - (Bm * B) - (Be * B * B)\n",
    "    Z_dot = (h * e) - (h * P * Z) - (Zm * Z *Z )\n",
    "   \n",
    "    \n",
    "    DIN_dot = ddin + (0.8* (1 - e) * h * P * Z) + (Be * B)+  (Pe * P) \\\n",
    "                - (Pg * P * DIN) - ((Bg * B)/ (1 + Bg * B) * (DIN)) - (f * DIN)\n",
    "    DON_dot = ddon + (Bm * B)  +(Pm * P)  + (Zm * Z)  + (0.2 * (1 - e) * h * P * Z) \\\n",
    "             - (Pr * DON * P)  - ((Bg * B)/ (1 + Bg * B) * (DON))  - (s * DON) - (f * DON)\n",
    "    \n",
    "    return [P_dot,B_dot,Z_dot,DIN_dot,DON_dot]"
   ]
  },
  {
   "cell_type": "code",
   "execution_count": 21,
   "metadata": {},
   "outputs": [
    {
     "name": "stderr",
     "output_type": "stream",
     "text": [
      "INFO -1104- New Model(3): NPZNB_int\n",
      "INFO -1116- No algorithm supplied assuming vode/bfd O12 Nsteps3000 dt1\n"
     ]
    }
   ],
   "source": [
    "NPZUS = emlib.Model(NPZNB_int) #save the model"
   ]
  },
  {
   "cell_type": "code",
   "execution_count": null,
   "metadata": {},
   "outputs": [],
   "source": [
    "nutrients_alltime= emlib.TimeSeries(dirname=\"Data\",filename=\"Guadalupe_inputall_Temp.csv\")\n",
    "\n",
    "benthos_observation = emlib.Observation (\"B\", dirname=\"Data\",filename= \"US_MG_Calibrate.csv\")  \n",
    "zoop_observation = emlib.Observation (\"Z\", dirname=\"Data\",filename= \"US_Zoop.csv\")  \n",
    "chla_observation = emlib.Observation (\"P\", dirname=\"Data\",filename= \"US_Chl.csv\")  \n",
    "\n",
    "NPZUScalibration = emlib.Calibration()  #all of our coefficients\n",
    "NPZUScalibration.Add(\"i\",val=2.54402, min= 0.01, max= 3.0)#from Turner 2014\n",
    "NPZUScalibration.Add(\"Pg\",val=2.2672251,min= 0.01, max= 3.0)#from Turner 2014\n",
    "NPZUScalibration.Add(\"Bg\",val=1.03903,min= 0.01, max= 3.0)#from Turner 2014\n",
    "NPZUScalibration.Add(\"e\",val=1.77639,min= 0.01, max= 2.0)#from Turner 2014\n",
    "NPZUScalibration.Add(\"Zm\",val=0.028854,min= 0.01, max= 3.0)#from Turner 2014\n",
    "NPZUScalibration.Add(\"Pm\",val=2.61708,min= 0.01, max= 3.0)#from Turner 2014\n",
    "NPZUScalibration.Add(\"Bm\",val=1.18918,min= 0.01, max= 1.5)#from Turner 2014\n",
    "NPZUScalibration.Add(\"Pe\",val=1.24452553,min= 0.01, max= 3.0)#random number\n",
    "NPZUScalibration.Add(\"Be\",val=0.92205,min= 0.01, max= 1.5)#random number\n",
    "NPZUScalibration.Add(\"Pr\",val=2.2753,min= 0.01, max= 3.0)#random number\n",
    "NPZUScalibration.Add(\"h\",val=1.14171,min=0.01,max=3.0)#random moving number\n",
    "NPZUScalibration.Add(\"s\",val=0.11773830,min= .01, max= 3.0)#from Turner 2014\n",
    "NPZUScalibration.Add(\"f\",val=0.0570468,min= .01, max= 2.0)#from Turner 2014\n",
    "NPZUScalibration.initial=[0.5,0.5,0.5,0.5,0.5]\n",
    "\n",
    "legend = [\"B\", \"P\", \"Z\", \"DIN\",\"DON\"]   #our graph legend\n",
    "\n"
   ]
  },
  {
   "cell_type": "code",
   "execution_count": null,
   "metadata": {},
   "outputs": [],
   "source": [
    "import copy\n",
    "runs = 100\n",
    "\n",
    "\n",
    "NPZUS.Integrate(NPZUScalibration.initial, Calibration=NPZUScalibration,TimeSeries= nutrients_alltime, dt=0.01) \n",
    "GF_benthos = NPZUS.Validate(benthos_observation)\n",
    "GF_zoop = NPZUS.Validate(zoop_observation)\n",
    "GF_chla = NPZUS.Validate(chla_observation)\n",
    "avg_MSE = ( GF_benthos.MSE + GF_zoop.MSE + GF_chla.MSE)/ 3\n",
    "avg_RANGE = (GF_benthos.RANGE + GF_zoop.RANGE + GF_chla.RANGE) / 3\n",
    "\n",
    "best = None\n",
    "print (\"Org. fitness:\", GF_benthos.RANGE, GF_zoop.RANGE, GF_chla.MSE, avg_RANGE)\n",
    "\n",
    "for i in range(runs):\n",
    "    testingC = copy.deepcopy(NPZUScalibration)\n",
    "    testingC.Randomize()\n",
    "    NPZUS.Integrate(NPZUScalibration.initial, Calibration=testingC,TimeSeries= nutrients_alltime, dt=0.01) \n",
    "    GF_benthos_new = NPZUS.Validate(benthos_observation)\n",
    "    GF_zoop_new = NPZUS.Validate(zoop_observation)\n",
    "    GF_chla_new = NPZUS.Validate(chla_observation)\n",
    "    avgRANGE_new = (GF_benthos_new.RANGE + GF_zoop_new.RANGE + GF_chla_new.RANGE) / 3\n",
    "    avgMSE_new = (GF_benthos_new.MSE + GF_zoop_new.MSE + GF_chla_new.MSE) / 3\n",
    "    print (\"New. fitness:\", GF_benthos_new.RANGE, GF_zoop_new.RANGE, GF_chla_new.RANGE, avgRANGE_new)\n",
    "    \n",
    "    if (GF_benthos_new.MSE  is 0) or (GF_zoop_new.MSE  is 0) or (GF_chla_new.MSE  is 0):\n",
    "        print (\"invalid...\")\n",
    "        continue\n",
    "    if (GF_benthos_new.RANGE  is 0)  or (GF_chla_new.RANGE  is 0):  # zoop count it so small we cant strip by range =0\n",
    "        print (\"invalid...\")\n",
    "        continue\n",
    "        \n",
    "        \n",
    "    if (avgRANGE_new >= avg_RANGE) and (avgMSE_new <= avg_MSE):\n",
    "        best = testingC\n",
    "        print(\"New Best Calibration:\")\n",
    "        best.Print()\n",
    "        avg_RANGE = avgRANGE_new\n",
    "        avg_MSE = avgMSE_new\n",
    "\n",
    "if best:  #if we found a best calibration lets print it out\n",
    "    NPZUS.Integrate(NPZUScalibration.initial, Calibration=best,TimeSeries= nutrients_alltime, dt=0.01)\n",
    "    NPZUS.Validate(chla_observation, graph =True, legend=legend) \n",
    "    NPZUS.Validate(benthos_observation, graph =True, legend=legend) \n",
    "    NPZUS.Validate(zoop_observation, graph =True, legend=legend) \n",
    "    NPZUS.fit.Print()\n",
    "    best.Print()\n",
    "    "
   ]
  },
  {
   "cell_type": "code",
   "execution_count": null,
   "metadata": {},
   "outputs": [],
   "source": []
  }
 ],
 "metadata": {
  "kernelspec": {
   "display_name": "Python 3",
   "language": "python",
   "name": "python3"
  },
  "language_info": {
   "codemirror_mode": {
    "name": "ipython",
    "version": 3
   },
   "file_extension": ".py",
   "mimetype": "text/x-python",
   "name": "python",
   "nbconvert_exporter": "python",
   "pygments_lexer": "ipython3",
   "version": "3.7.1"
  }
 },
 "nbformat": 4,
 "nbformat_minor": 2
}
